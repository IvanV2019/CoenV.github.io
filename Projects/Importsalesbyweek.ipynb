{
 "cells": [
  {
   "cell_type": "markdown",
   "id": "5589d895-dcfb-41a9-83ad-88decbb157bf",
   "metadata": {},
   "source": [
    "SALES INVOICES DIVIDED IN TIME\n",
    "\n",
    "Export in excel of the sales invoices by due date and then the due date divided per week for cash flow purposes. "
   ]
  },
  {
   "cell_type": "code",
   "execution_count": null,
   "id": "a1ca0679-0d64-4111-8000-52bd8e9a33b7",
   "metadata": {},
   "outputs": [],
   "source": [
    "#Packages:\n",
    "import pandas as pd"
   ]
  },
  {
   "cell_type": "code",
   "execution_count": null,
   "id": "557522c2-a701-4c2f-83a4-6cbe285274b2",
   "metadata": {},
   "outputs": [],
   "source": [
    "df = pd.read_excel('<<filename>>')\n",
    "df.head()"
   ]
  },
  {
   "cell_type": "code",
   "execution_count": null,
   "id": "768c9bbe-7ec7-4d4a-a0bb-9fb53f3140ff",
   "metadata": {},
   "outputs": [],
   "source": [
    "df.info()"
   ]
  },
  {
   "cell_type": "code",
   "execution_count": null,
   "id": "37b52f42-4fa2-4a43-8707-f9bdae5fef90",
   "metadata": {},
   "outputs": [],
   "source": [
    "#Standardizing date and converting to weeks\n",
    "df['Vervaldatum'] = pd.to_datetime(df['Vervaldatum'], format='%Y-%m-%d')\n",
    "df['Week'] = df['Vervaldatum'].dt.isocalendar().week"
   ]
  },
  {
   "cell_type": "code",
   "execution_count": null,
   "id": "e2db6354-d97d-4198-9be4-1d49ffc6c3b8",
   "metadata": {},
   "outputs": [],
   "source": [
    "#Group per week and rename column names for clarity, divide by 1k and put week in rows\n",
    "weekly_sum = df.groupby('Week')['Bedrag incl. btw'].sum().reset_index()\n",
    "weekly_sum['Bedrag incl. btw'] = weekly_sum['Bedrag incl. btw'] / 1000\n",
    "weekly_sum_transposed = weekly_sum.set_index('Week').T\n",
    "weekly_sum.columns = ['Week Number', 'Total Amount per Week (in 1000E)']"
   ]
  },
  {
   "cell_type": "code",
   "execution_count": null,
   "id": "850e94d9-6d6c-4d25-82b2-67c35975d847",
   "metadata": {},
   "outputs": [],
   "source": [
    "#show results and export to excel\n",
    "print(weekly_sum_transposed)\n",
    "weekly_sum_transposed.to_excel('Verkopen tijdverdeling/weekly_totals_transposed.xlsx')"
   ]
  },
  {
   "cell_type": "code",
   "execution_count": null,
   "id": "a434bc70-d1ff-43b6-8ff2-b50e570a9ad5",
   "metadata": {},
   "outputs": [],
   "source": []
  }
 ],
 "metadata": {
  "kernelspec": {
   "display_name": "anaconda-ai-2024.04-py310",
   "language": "python",
   "name": "conda-env-anaconda-ai-2024.04-py310-py"
  },
  "language_info": {
   "codemirror_mode": {
    "name": "ipython",
    "version": 3
   },
   "file_extension": ".py",
   "mimetype": "text/x-python",
   "name": "python",
   "nbconvert_exporter": "python",
   "pygments_lexer": "ipython3",
   "version": "3.10.13"
  }
 },
 "nbformat": 4,
 "nbformat_minor": 5
}
