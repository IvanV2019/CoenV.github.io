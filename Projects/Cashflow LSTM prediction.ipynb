{
 "cells": [
  {
   "cell_type": "markdown",
   "id": "53863d38-1c21-40f5-b665-def525cbfe22",
   "metadata": {},
   "source": [
    "LSTM CASHFLOW PREDICTOR\n",
    "\n",
    "This is a first version of a cash flow predictor. It shows the "
   ]
  },
  {
   "cell_type": "code",
   "execution_count": null,
   "id": "26a5896b-b395-4229-aa17-b12f59ac02ab",
   "metadata": {},
   "outputs": [],
   "source": [
    "# Installing libraries (run if needed)\n",
    "!pip install pandas\n",
    "!pip install numpy"
   ]
  },
  {
   "cell_type": "code",
   "execution_count": null,
   "id": "77cf7eb2-b662-41ef-804a-9a472765c241",
   "metadata": {},
   "outputs": [],
   "source": [
    "#importing packages\n",
    "import pandas as pd\n",
    "import numpy as np\n",
    "from sklearn.preprocessing import MinMaxScaler\n",
    "from tensorflow.keras.models import Sequential\n",
    "from tensorflow.keras.layers import LSTM, Dense\n",
    "from tensorflow.keras.optimizers import Adam\n",
    "import matplotlib.pyplot as plt"
   ]
  },
  {
   "cell_type": "code",
   "execution_count": null,
   "id": "8f192450-71bc-4e82-975d-f7fab98cd8b5",
   "metadata": {},
   "outputs": [],
   "source": [
    "#loading data + checking headers/info\n",
    "data = pd.read_csv('<filename>.csv')\n",
    "data.info()"
   ]
  },
  {
   "cell_type": "code",
   "execution_count": null,
   "id": "566dbb41-0c8d-476a-9efd-bc9d574568aa",
   "metadata": {},
   "outputs": [],
   "source": [
    "data.head()"
   ]
  },
  {
   "cell_type": "code",
   "execution_count": null,
   "id": "791bcc03-f8df-4b38-91dd-6e078a8f5de3",
   "metadata": {},
   "outputs": [],
   "source": [
    "data.describe()"
   ]
  },
  {
   "cell_type": "code",
   "execution_count": null,
   "id": "f8899517-fa55-427f-b86a-ab791eb42743",
   "metadata": {},
   "outputs": [],
   "source": [
    "#show the column names for viewing\n",
    "print('Columns in the dataset:', data.columns)"
   ]
  },
  {
   "cell_type": "code",
   "execution_count": null,
   "id": "fb36d5b7-6e07-4a3f-8849-62cf7062e6c0",
   "metadata": {},
   "outputs": [],
   "source": [
    "#Data checking for debugging:\n",
    "print(data['Bedrag'].head(20)) #checking 20 rows for data-setup"
   ]
  },
  {
   "cell_type": "code",
   "execution_count": null,
   "id": "a42dc267-a892-4590-a5de-258234fc701e",
   "metadata": {},
   "outputs": [],
   "source": [
    "#Preparing: parsing dates and sorting/aggregate\n",
    "data['Valutadatum'] = pd.to_datetime(data['Valutadatum'], format='%d-%m-%Y')"
   ]
  },
  {
   "cell_type": "code",
   "execution_count": null,
   "id": "91ce24ce-91e1-4c59-9492-5ed4b67baf35",
   "metadata": {},
   "outputs": [],
   "source": [
    "#Checking NaN-Values:\n",
    "print(data[data['Bedrag'].isna()])"
   ]
  },
  {
   "cell_type": "code",
   "execution_count": null,
   "id": "697e3ca3-7bfc-4086-9d1e-ac14dabb9712",
   "metadata": {},
   "outputs": [],
   "source": [
    "#Cleaning column Bedrag\n",
    "data['Bedrag'] = data['Bedrag'].astype(str).str.replace(',', '.').str.replace(r'[^0-9.-]', '', regex=True)\n",
    "data['Bedrag'] = pd.to_numeric(data['Bedrag'], errors='coerce')\n",
    "if data['Bedrag'].isna().any():\n",
    "    raise ValueError(\"Some values in 'Bedrag' could not be converted to numeric. Please inspect these rows.\")\n",
    "data = data.dropna(subset=['Valutadatum', 'Bedrag']) #dropping rows with NaN values in valutadatum or bedrag\n",
    "data = data.sort_values('Valutadatum')"
   ]
  },
  {
   "cell_type": "code",
   "execution_count": null,
   "id": "f3e928e2-db0d-403d-b585-0d72c934c159",
   "metadata": {},
   "outputs": [],
   "source": [
    "#Aggregate weekly cashflow\n",
    "data.set_index('Valutadatum', inplace=True)\n",
    "weekly_data = data['Bedrag'].resample('W').sum()\n",
    "\n",
    "#checking weekly_data:\n",
    "print(weekly_data.head(10))"
   ]
  },
  {
   "cell_type": "code",
   "execution_count": null,
   "id": "7b197054-86d7-4ba6-a3b4-e878d158a2d1",
   "metadata": {},
   "outputs": [],
   "source": [
    "#scaling and converting\n",
    "scaler = MinMaxScaler(feature_range=(0, 1))\n",
    "scaled_data = scaler.fit_transform(weekly_data.values.reshape(-1, 1))\n",
    "\n",
    "def create_sequences(data, sequence_length):\n",
    "    X, y = [], []\n",
    "    for i in range(len(data) - sequence_length):\n",
    "        X.append(data[i:i+sequence_length])\n",
    "        y.append(data[i+sequence_length])\n",
    "    return np.array(X), np.array(y)"
   ]
  },
  {
   "cell_type": "code",
   "execution_count": null,
   "id": "72bd7bd7-7cc6-4bd5-8612-210165ddb28f",
   "metadata": {},
   "outputs": [],
   "source": [
    "# setting weeks looking back\n",
    "sequence_length = 10  \n",
    "X, y = create_sequences(scaled_data, sequence_length)"
   ]
  },
  {
   "cell_type": "code",
   "execution_count": null,
   "id": "d68f7691-2c2c-45a0-a6ac-65e95e6bf61b",
   "metadata": {},
   "outputs": [],
   "source": [
    "#splitting into test/training\n",
    "split = int(0.8 * len(X))\n",
    "X_train, X_test = X[:split], X[split:]\n",
    "y_train, y_test = y[:split], y[split:]"
   ]
  },
  {
   "cell_type": "code",
   "execution_count": null,
   "id": "c2aef63d-39f6-42d3-a300-6bc3e2ea3103",
   "metadata": {},
   "outputs": [],
   "source": [
    "#setting up the model\n",
    "model = Sequential([\n",
    "    LSTM(50, activation='relu', return_sequences=True, input_shape=(X_train.shape[1], 1)),\n",
    "    LSTM(50, activation='relu'),\n",
    "    Dense(1)\n",
    "])\n",
    "\n",
    "model.compile(optimizer=Adam(learning_rate=0.001), loss='mse')"
   ]
  },
  {
   "cell_type": "code",
   "execution_count": null,
   "id": "78f888e9-deb5-4a9c-b4ca-66201bc1d2dd",
   "metadata": {},
   "outputs": [],
   "source": [
    "#Training\n",
    "history = model.fit(X_train, y_train, epochs=50, batch_size=16, validation_data=(X_test, y_test), verbose=1)"
   ]
  },
  {
   "cell_type": "code",
   "execution_count": null,
   "id": "46d639c8-a3bf-4dac-a944-059034b7e871",
   "metadata": {},
   "outputs": [],
   "source": [
    "#Setting up predictions\n",
    "predictions = model.predict(X_test)\n",
    "predictions = scaler.inverse_transform(predictions)\n",
    "actual = scaler.inverse_transform(y_test)"
   ]
  },
  {
   "cell_type": "code",
   "execution_count": null,
   "id": "6894ee7d-f8bc-4e4b-aa85-a5f80da968ba",
   "metadata": {},
   "outputs": [],
   "source": [
    "#Prediction next 10 weeks\n",
    "future_predictions = []\n",
    "current_sequence = X_test[-1]  # Start from the last sequence in the test set\n",
    "\n",
    "for _ in range(10):  # Predict for 10 weeks\n",
    "    next_pred = model.predict(current_sequence[np.newaxis, :, :])[0, 0]\n",
    "    future_predictions.append(next_pred)\n",
    "    # Update the sequence with the predicted value\n",
    "    current_sequence = np.append(current_sequence[1:], next_pred).reshape(-1, 1)\n",
    "\n",
    "# Rescale future predictions back to original scale\n",
    "future_predictions = scaler.inverse_transform(np.array(future_predictions).reshape(-1, 1))"
   ]
  },
  {
   "cell_type": "code",
   "execution_count": null,
   "id": "99ea9d26-895a-4c28-96cf-5f3c27db1b8a",
   "metadata": {},
   "outputs": [],
   "source": [
    "#plotting results\n",
    "plt.figure(figsize=(14, 7))\n",
    "plt.plot(weekly_data.index[-len(y_test):], scaler.inverse_transform(y_test), label='Actual')\n",
    "plt.plot(weekly_data.index[-len(y_test):], predictions, label='Predicted')\n",
    "plt.title('LSTM Model Predictions')\n",
    "plt.legend()\n",
    "plt.show()\n"
   ]
  },
  {
   "cell_type": "code",
   "execution_count": null,
   "id": "7c226e17-55bb-46f2-a991-4986e108900c",
   "metadata": {},
   "outputs": [],
   "source": [
    "#Plotting future cashflow\n",
    "future_dates = pd.date_range(start=weekly_data.index[-1], periods=11, freq='W')[1:]\n",
    "plt.figure(figsize=(14, 7))\n",
    "plt.plot(future_dates, future_predictions, marker='o', label='Future Predictions')\n",
    "plt.title('Future Cashflow (Next 10 Weeks)')\n",
    "plt.legend()\n",
    "plt.show()"
   ]
  },
  {
   "cell_type": "code",
   "execution_count": null,
   "id": "0b4c7b15-6fc8-4ed2-8900-755adaaca04a",
   "metadata": {},
   "outputs": [],
   "source": [
    "#Check overfitting/underfitting\n",
    "#importing packages\n",
    "from sklearn.metrics import mean_squared_error"
   ]
  },
  {
   "cell_type": "code",
   "execution_count": null,
   "id": "cde5909a-9a3d-4fdc-ad4b-eec2af233ece",
   "metadata": {},
   "outputs": [],
   "source": [
    "#RSME as indicator for performance, calculating RSME\n",
    "test_rmse = np.sqrt(mean_squared_error(actual, predictions))\n",
    "print(f\"Test RMSE: {test_rmse:.2f}\")"
   ]
  },
  {
   "cell_type": "code",
   "execution_count": null,
   "id": "4c2fca2d-1dc3-4ead-bfd6-19248ba57349",
   "metadata": {},
   "outputs": [],
   "source": [
    "#training set predictions:\n",
    "train_predictions = model.predict(X_train)\n",
    "train_predictions = scaler.inverse_transform(train_predictions)\n",
    "train_actual = scaler.inverse_transform(y_train)\n",
    "\n",
    "train_rmse = np.sqrt(mean_squared_error(train_actual, train_predictions))\n",
    "print(f\"Train RMSE: {train_rmse:.2f}\")"
   ]
  },
  {
   "cell_type": "code",
   "execution_count": null,
   "id": "2341a1f1-1337-455c-a9bc-e76ac9998fd3",
   "metadata": {},
   "outputs": [],
   "source": [
    "#Plotting training data vs validation loss:\n",
    "plt.figure(figsize=(14, 7))\n",
    "plt.plot(history.history['loss'], label='Training Loss')\n",
    "plt.plot(history.history['val_loss'], label='Validation Loss')\n",
    "plt.title('Training vs Validation Loss')\n",
    "plt.xlabel('Epochs')\n",
    "plt.ylabel('Loss')\n",
    "plt.legend()\n",
    "plt.show()"
   ]
  },
  {
   "cell_type": "code",
   "execution_count": null,
   "id": "2d28d5bf-99eb-4ed0-8b46-676aed57c9f6",
   "metadata": {},
   "outputs": [],
   "source": [
    "#RSME comparison\n",
    "labels = ['Train RMSE', 'Test RMSE']\n",
    "values = [train_rmse, test_rmse]\n",
    "plt.figure(figsize=(10, 5))\n",
    "plt.bar(labels, values, color=['blue', 'orange'])\n",
    "plt.title('RMSE Comparison')\n",
    "plt.ylabel('RMSE')\n",
    "plt.show()"
   ]
  },
  {
   "cell_type": "code",
   "execution_count": null,
   "id": "7929fe30-7ade-454b-a9ac-71456a273ce0",
   "metadata": {},
   "outputs": [],
   "source": []
  }
 ],
 "metadata": {
  "kernelspec": {
   "display_name": "anaconda-ai-2024.04-py310",
   "language": "python",
   "name": "conda-env-anaconda-ai-2024.04-py310-py"
  },
  "language_info": {
   "codemirror_mode": {
    "name": "ipython",
    "version": 3
   },
   "file_extension": ".py",
   "mimetype": "text/x-python",
   "name": "python",
   "nbconvert_exporter": "python",
   "pygments_lexer": "ipython3",
   "version": "3.10.13"
  }
 },
 "nbformat": 4,
 "nbformat_minor": 5
}
